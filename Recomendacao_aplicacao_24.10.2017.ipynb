{
 "cells": [
  {
   "cell_type": "markdown",
   "metadata": {
    "collapsed": true
   },
   "source": [
    "# Treinando RandomForest"
   ]
  },
  {
   "cell_type": "code",
   "execution_count": 1,
   "metadata": {
    "collapsed": false
   },
   "outputs": [
    {
     "name": "stderr",
     "output_type": "stream",
     "text": [
      "D:\\Users\\felipe.santos\\AppData\\Local\\Continuum\\Anaconda3\\lib\\site-packages\\sklearn\\cross_validation.py:44: DeprecationWarning: This module was deprecated in version 0.18 in favor of the model_selection module into which all the refactored classes and functions are moved. Also note that the interface of the new CV iterators are different from that of this module. This module will be removed in 0.20.\n",
      "  \"This module will be removed in 0.20.\", DeprecationWarning)\n"
     ]
    }
   ],
   "source": [
    "import pandas as pd\n",
    "from datetime import datetime, timedelta, date\n",
    "import numpy as np\n",
    "import csv\n",
    "import unidecode \n",
    "import pandas.core.algorithms as algos\n",
    "from scipy.stats import kendalltau   \n",
    "from funcoes_uteis import *\n",
    "from dateutil.relativedelta import relativedelta\n",
    "\n",
    "import sklearn\n",
    "from sklearn.preprocessing import LabelEncoder\n",
    "from sklearn.preprocessing import StandardScaler\n",
    "from sklearn.neighbors import KNeighborsClassifier\n",
    "from sklearn.ensemble import RandomForestClassifier\n",
    "from sklearn.model_selection import StratifiedKFold\n",
    "from sklearn.cross_validation import KFold, StratifiedKFold\n",
    "from sklearn.metrics import roc_auc_score, f1_score\n",
    "from sklearn.preprocessing import LabelEncoder\n",
    "\n",
    "import seaborn as sns\n",
    "%matplotlib inline\n",
    "import matplotlib.pyplot as plt\n",
    "\n",
    "import string"
   ]
  },
  {
   "cell_type": "code",
   "execution_count": 2,
   "metadata": {
    "collapsed": true
   },
   "outputs": [],
   "source": [
    "def diff_month(d1, d2):\n",
    "    return (d1.year - d2.year)*12 + d1.month - d2.month\n",
    "\n",
    "def periodicidade(x):\n",
    "    if x == 'Trienal':\n",
    "        return 36    \n",
    "    elif x == 'Anual':\n",
    "        return 12\n",
    "    elif x == 'Semestral':\n",
    "        return 6\n",
    "    elif x == 'Trimestral':\n",
    "        return 3\n",
    "    else: \n",
    "        return 1\n",
    "\n",
    "def marca_base(Perc, x):\n",
    "    if x >= Perc[(len(Perc)-1)]:\n",
    "        return len(Perc) +1\n",
    "    else:\n",
    "        for i in range(len(Perc)):\n",
    "            if x < Perc[i]:\n",
    "                return i + 1\n",
    "\n",
    "def cria_curva(percentiles, variavel):\n",
    "    Perc = list()\n",
    "    for i in range(len(percentiles)):\n",
    "        Perc.append(np.percentile(variavel, percentiles[i]))\n",
    "    return Perc    \n",
    "\n",
    "def contagens_anteriores(um_df):\n",
    "    um_df['contagens_anteriores'] = range(len(um_df))\n",
    "    return um_df"
   ]
  },
  {
   "cell_type": "code",
   "execution_count": 3,
   "metadata": {
    "collapsed": false
   },
   "outputs": [],
   "source": [
    "def cria_chave(df_recomendacao):\n",
    "    if len(df_recomendacao.columns) == 3:\n",
    "        df_recomendacao['chave_recomendacao'] = df_recomendacao.Produto1\n",
    "        df_recomendacao['ultimo_produto'] = df_recomendacao.Produto2\n",
    "        return df_recomendacao\n",
    "    elif len(df_recomendacao.columns) == 4:\n",
    "        df_recomendacao['chave_recomendacao'] = df_recomendacao.Produto1+df_recomendacao.Produto2\n",
    "        df_recomendacao['ultimo_produto'] = df_recomendacao.Produto3\n",
    "        return df_recomendacao\n",
    "    elif len(df_recomendacao.columns) == 5:\n",
    "        df_recomendacao['chave_recomendacao'] = df_recomendacao.Produto1+df_recomendacao.Produto2+df_recomendacao.Produto3    \n",
    "        df_recomendacao['ultimo_produto'] = df_recomendacao.Produto4\n",
    "        return df_recomendacao\n",
    "    elif len(df_recomendacao.columns) == 6:\n",
    "        df_recomendacao['chave_recomendacao'] = df_recomendacao.Produto1+df_recomendacao.Produto2+df_recomendacao.Produto3+df_recomendacao.Produto4\n",
    "        df_recomendacao['ultimo_produto'] = df_recomendacao.Produto5\n",
    "        return df_recomendacao\n",
    "    elif len(df_recomendacao.columns) == 7:\n",
    "        df_recomendacao['chave_recomendacao'] = df_recomendacao.Produto1+df_recomendacao.Produto2+df_recomendacao.Produto3+df_recomendacao.Produto4+df_recomendacao.Produto5\n",
    "        df_recomendacao['ultimo_produto'] = df_recomendacao.Produto6     \n",
    "        return df_recomendacao\n",
    "    elif len(df_recomendacao.columns) == 8:\n",
    "        df_recomendacao['chave_recomendacao'] = df_recomendacao.Produto1+df_recomendacao.Produto2+df_recomendacao.Produto3+df_recomendacao.Produto4+df_recomendacao.Produto5+df_recomendacao.Produto6\n",
    "        df_recomendacao['ultimo_produto'] = df_recomendacao.Produto7       \n",
    "        return df_recomendacao \n",
    "    elif len(df_recomendacao.columns) == 9:\n",
    "        df_recomendacao['chave_recomendacao'] = df_recomendacao.Produto1+df_recomendacao.Produto2+df_recomendacao.Produto3+df_recomendacao.Produto4+df_recomendacao.Produto5+df_recomendacao.Produto6+df_recomendacao.Produto7\n",
    "        df_recomendacao['ultimo_produto'] = df_recomendacao.Produto8       \n",
    "        return df_recomendacao \n",
    "    elif len(df_recomendacao.columns) == 10:\n",
    "        df_recomendacao['chave_recomendacao'] = df_recomendacao.Produto1+df_recomendacao.Produto2+df_recomendacao.Produto3+df_recomendacao.Produto4+df_recomendacao.Produto5+df_recomendacao.Produto6+df_recomendacao.Produto7+df_recomendacao.Produto8\n",
    "        df_recomendacao['ultimo_produto'] = df_recomendacao.Produto9       \n",
    "        return df_recomendacao \n",
    "    elif len(df_recomendacao.columns) == 11:\n",
    "        df_recomendacao['chave_recomendacao'] = df_recomendacao.Produto1+df_recomendacao.Produto2+df_recomendacao.Produto3+df_recomendacao.Produto4+df_recomendacao.Produto5+df_recomendacao.Produto6+df_recomendacao.Produto7+df_recomendacao.Produto8+df_recomendacao.Produto9\n",
    "        df_recomendacao['ultimo_produto'] = df_recomendacao.Produto10       \n",
    "        return df_recomendacao \n",
    "    elif len(df_recomendacao.columns) == 12:\n",
    "        df_recomendacao['chave_recomendacao'] = df_recomendacao.Produto1+df_recomendacao.Produto2+df_recomendacao.Produto3+df_recomendacao.Produto4+df_recomendacao.Produto5+df_recomendacao.Produto6+df_recomendacao.Produto7+df_recomendacao.Produto8+df_recomendacao.Produto9+df_recomendacao.Produto10\n",
    "        df_recomendacao['ultimo_produto'] = df_recomendacao.Produto11        \n",
    "        return df_recomendacao "
   ]
  },
  {
   "cell_type": "code",
   "execution_count": 4,
   "metadata": {
    "collapsed": false
   },
   "outputs": [],
   "source": [
    "def Recomendacao_Base1(fim_janela_feature, janela_booking, df_base):\n",
    "    aux_janela_feature = fim_janela_feature+ relativedelta(months=-12)\n",
    "    inicio_janela_booking = fim_janela_feature\n",
    "    fim_janela_booking = fim_janela_feature+ relativedelta(months=janela_booking)\n",
    "\n",
    "    df_booking = df_base[(df_base.Instalacao_AnoMes >= inicio_janela_booking) & \n",
    "                         (df_base.Instalacao_AnoMes < fim_janela_booking)].copy()\n",
    "    df_booking = df_booking[~df_booking.Servico.isnull()].copy()\n",
    "    lista = list(df_booking.Servico.unique())\n",
    "    lista = ['Comprou_' + str(i) for i in lista]\n",
    "    dict_lista = {str(i): 'sum' for i in lista}\n",
    "    df_booking.rename(columns= {'Servico': 'Comprou'}, inplace= True)\n",
    "    ohe = ['Comprou']\n",
    "    colunas = ['cd_ChaveCliente', 'Comprou']\n",
    "    df_ohe_Servico = pd.get_dummies(df_booking[colunas], columns = ohe,)\n",
    "    df_ohe_Servico = df_ohe_Servico.groupby('cd_ChaveCliente').agg(dict_lista)\n",
    "    return df_ohe_Servico   "
   ]
  },
  {
   "cell_type": "code",
   "execution_count": 5,
   "metadata": {
    "collapsed": false
   },
   "outputs": [],
   "source": [
    "def calcula_recomendacao(df_recomendacao, chave):\n",
    "    dict_lista = {'cd_ChaveCliente' : 'sum',}\n",
    "    colunas_aux = ['ultimo_produto', 'chave_recomendacao']\n",
    "    df_recomendacao1 = df_recomendacao.reset_index().groupby(colunas_aux).agg(dict_lista)\n",
    "    df_recomendacao1.sort_values(['cd_ChaveCliente'], ascending= [0] ,inplace=True)\n",
    "    df_recomendacao1.reset_index(inplace= True)\n",
    "    \n",
    "    df_recomendacao2 = df_recomendacao1[df_recomendacao1.chave_recomendacao != chave].copy()\n",
    "    df_recomendacao2['chave_recomendacao'] = chave\n",
    "    dict_lista = {'cd_ChaveCliente' : 'sum',}\n",
    "    df_recomendacao2 = df_recomendacao2.reset_index().groupby(colunas_aux).agg(dict_lista)\n",
    "    df_recomendacao2.sort_values(['cd_ChaveCliente'], ascending= [0] ,inplace=True)\n",
    "    df_recomendacao2.reset_index(inplace= True)\n",
    "    df_recomendacao2['perc_complementar'] = df_recomendacao2.cd_ChaveCliente*100/df_recomendacao2.cd_ChaveCliente.sum()\n",
    "    \n",
    "    df_recomendacao1 = df_recomendacao1[df_recomendacao1.chave_recomendacao == chave].copy()\n",
    "    df_recomendacao1['perc'] = df_recomendacao1.cd_ChaveCliente*100/df_recomendacao1.cd_ChaveCliente.sum()\n",
    "    \n",
    "    aux = ['ultimo_produto','chave_recomendacao','perc_complementar']\n",
    "    df_recomendacao_aux = pd.merge(df_recomendacao1, df_recomendacao2[aux], on=['chave_recomendacao', 'ultimo_produto'])\n",
    "    df_recomendacao_aux['ratio_recomenda'] = df_recomendacao_aux.perc/df_recomendacao_aux.perc_complementar\n",
    "    \n",
    "    aux = ['ratio_recomenda','perc']\n",
    "        \n",
    "    RatioCorrigido = df_recomendacao_aux[df_recomendacao_aux.ratio_recomenda >= 1].copy()\n",
    "    RatioCorrigido.sort_values(['ratio_recomenda'], ascending= [0] ,inplace=True)\n",
    "        \n",
    "    Freqencia = df_recomendacao_aux[df_recomendacao_aux.ratio_recomenda < 1].copy()\n",
    "    Freqencia.sort_values(['perc'], ascending= [0] ,inplace=True)\n",
    "        \n",
    "    resultado = RatioCorrigido.append(Freqencia)\n",
    "    resultado.reset_index(inplace= True, drop= True)\n",
    "    resultado.reset_index(inplace= True)\n",
    "    \n",
    "    dict_lista = {'cd_ChaveCliente' : 'sum',}\n",
    "    df_preenche_vazios = df_recomendacao.reset_index().groupby('ultimo_produto').agg(dict_lista)\n",
    "    df_preenche_vazios.sort_values(['cd_ChaveCliente'], ascending= [0] ,inplace=True)\n",
    "    df_preenche_vazios.reset_index(inplace= True)\n",
    "    lista1 = list(df_preenche_vazios.ultimo_produto.unique())\n",
    "    lista2 = list(resultado.ultimo_produto.unique())\n",
    "    aux = list(set(lista1) - set(lista2))\n",
    "    df_preenche_vazios = df_preenche_vazios[df_preenche_vazios.ultimo_produto.isin(aux)].copy()\n",
    "    df_preenche_vazios['chave_recomendacao'] = chave\n",
    "    \n",
    "    resultado.drop('index', axis= 1, inplace= True)\n",
    "    resultado = resultado.append(df_preenche_vazios)\n",
    "    resultado.reset_index(inplace= True, drop= True)\n",
    "    resultado.reset_index(inplace= True)\n",
    "    \n",
    "    resultado = resultado.pivot(index='chave_recomendacao', columns='index', values='ultimo_produto')\n",
    "    return resultado"
   ]
  },
  {
   "cell_type": "code",
   "execution_count": 6,
   "metadata": {
    "collapsed": true
   },
   "outputs": [],
   "source": [
    "def junta_recomendacao(df_base, nivel):\n",
    "    dict_lista = {'cd_ChaveCliente' : 'count',}\n",
    "    c = nivel #começa no 2 e vai ate 10\n",
    "    df_recomendacao = df_base.reset_index().groupby(colunas[:c]).agg(dict_lista)\n",
    "    df_recomendacao.sort_values(['cd_ChaveCliente'], ascending= [0] ,inplace=True)\n",
    "    df_recomendacao.reset_index(inplace= True)\n",
    "    \n",
    "    df_recomendacao = cria_chave(df_recomendacao)\n",
    "    df_recomendacao = df_recomendacao[df_recomendacao.ultimo_produto != 'fim']\n",
    "    listaChaves = list(df_recomendacao.chave_recomendacao.unique())\n",
    "    \n",
    "    result = calcula_recomendacao(df_recomendacao, listaChaves[0])\n",
    "    for i in range(1,len(listaChaves)):\n",
    "        result_aux = calcula_recomendacao(df_recomendacao, listaChaves[i])\n",
    "        result = pd.concat([result, result_aux])\n",
    "    return result"
   ]
  },
  {
   "cell_type": "markdown",
   "metadata": {},
   "source": [
    "\n",
    "\n"
   ]
  },
  {
   "cell_type": "code",
   "execution_count": 7,
   "metadata": {
    "collapsed": false
   },
   "outputs": [],
   "source": [
    "df_MatrizRecomendacao = pd.read_pickle('/home/felipe/Algoritmos_todosProdutos/Recomendacao/df_MatrizRecomendacao_23102017.pkl')"
   ]
  },
  {
   "cell_type": "code",
   "execution_count": 23,
   "metadata": {
    "collapsed": false
   },
   "outputs": [
    {
     "name": "stderr",
     "output_type": "stream",
     "text": [
      "b'Skipping line 228640: expected 16 fields, saw 22\\n'\n"
     ]
    }
   ],
   "source": [
    "df_base = pd.read_csv('/home/felipe/Algoritmos_todosProdutos/Churn_Consumo_Recomendacao.csv'\n",
    "                      , error_bad_lines = False\n",
    "                      , sep=';'\n",
    "                      , dtype= {7: str}\n",
    "                      , encoding='latin-1'\n",
    "                      , header = 0) "
   ]
  },
  {
   "cell_type": "code",
   "execution_count": 24,
   "metadata": {
    "collapsed": true
   },
   "outputs": [],
   "source": [
    "df_base['Status'] = ['ativo' if s in ['Ativo', 'Atendido', 'Em ativação',\n",
    "                                      'Aguardando ativação'] else 'inativo'\n",
    "                     for s in df_base.Status]\n",
    "df_base['nr_PrecoMensal'] = [x.replace(',', '.') for x in df_base.nr_PrecoMensal]\n",
    "df_base['nr_PrecoMensal'] = df_base.nr_PrecoMensal.astype(float)\n",
    "df_base = df_base[(df_base.nr_PrecoMensal > 0) & (df_base.Status == 'ativo')].copy()\n",
    "df_base.drop_duplicates(['Provisioning'], keep='last', inplace= True)"
   ]
  },
  {
   "cell_type": "code",
   "execution_count": 25,
   "metadata": {
    "collapsed": false
   },
   "outputs": [],
   "source": [
    "col_datas = ['Data_Desativacao', 'Data_Fim', 'Instalacao', 'dt_Reativacao', 'Primeiro_Servico_LW']\n",
    "converte_datetime(df_base, col_datas)\n",
    "df_base.sort_values(['Instalacao'], ascending= 1 ,inplace=True)"
   ]
  },
  {
   "cell_type": "code",
   "execution_count": 26,
   "metadata": {
    "collapsed": true
   },
   "outputs": [],
   "source": [
    "df_base = df_base[df_base.Servico != 'Descontinuados'].copy()\n",
    "df_base = df_base[df_base.Servico != 'Parcerias'].copy()\n",
    "df_base = df_base[df_base.Servico != 'One Drive'].copy()\n",
    "df_base = df_base[df_base.Servico != 'STREAMING_AUDIO_VIDEO'].copy()\n",
    "df_base = df_base[df_base.Servico != 'Orago'].copy()\n",
    "df_base = df_base[df_base.Servico != 'WR'].copy()"
   ]
  },
  {
   "cell_type": "code",
   "execution_count": 27,
   "metadata": {
    "collapsed": false
   },
   "outputs": [],
   "source": [
    "df_base = df_base.groupby('cd_ChaveCliente').apply(contagens_anteriores)"
   ]
  },
  {
   "cell_type": "code",
   "execution_count": 28,
   "metadata": {
    "collapsed": true
   },
   "outputs": [],
   "source": [
    "df_base.drop_duplicates(['Provisioning'], keep='last', inplace= True)\n",
    "df_base.sort_values(['Instalacao'], ascending= 1 ,inplace=True)\n",
    "colunas = ['cd_ChaveCliente', 'Provisioning', 'Servico', 'contagens_anteriores', 'Instalacao']\n",
    "df_base = df_base[colunas][df_base.contagens_anteriores <= 10].copy()\n",
    "df_base['Servico'] = ['PABX Virtual' if s == 'PABX Virtual ' else s for s in df_base.Servico]"
   ]
  },
  {
   "cell_type": "code",
   "execution_count": 47,
   "metadata": {
    "collapsed": false
   },
   "outputs": [
    {
     "data": {
      "text/plain": [
       "datetime.datetime(2017, 10, 22, 0, 0)"
      ]
     },
     "execution_count": 47,
     "metadata": {},
     "output_type": "execute_result"
    }
   ],
   "source": [
    "data = df_base.Instalacao.max()"
   ]
  },
  {
   "cell_type": "code",
   "execution_count": 30,
   "metadata": {
    "collapsed": false
   },
   "outputs": [],
   "source": [
    "dict_lista = {'contagens_anteriores' : 'max',}\n",
    "df_aux_ContagensAnteriores = df_base.groupby('cd_ChaveCliente').agg(dict_lista)\n",
    "df_aux_ContagensAnteriores = df_aux_ContagensAnteriores.contagens_anteriores + 2\n",
    "df_base = df_base.pivot(index='cd_ChaveCliente', columns='contagens_anteriores', values='Servico').copy()\n",
    "colunas = ['Produto1','Produto2','Produto3','Produto4','Produto5','Produto6','Produto7','Produto8','Produto9','Produto10','Produto11']\n",
    "df_base.columns = colunas\n",
    "df_base.sort_values(colunas, ascending= [1,1,1,1,1,1,1,1,1,1,1] ,inplace=True)\n",
    "df_base = pd.concat([df_aux_ContagensAnteriores, df_base], axis=1)    \n",
    "df_base.reset_index(inplace= True)\n",
    "df_base.rename(columns= {'index': 'cd_ChaveCliente'}, inplace= True)\n",
    "df_base.fillna('fim', inplace = True)\n",
    "df_base['chave_recomendacao'] = df_base.Produto1+df_base.Produto2+df_base.Produto3+df_base.Produto4+df_base.Produto5+df_base.Produto6+df_base.Produto7+df_base.Produto8+df_base.Produto9+df_base.Produto10\n",
    "df_base['chave_recomendacao'] = [chave.replace('fim','') for chave in df_base.chave_recomendacao]"
   ]
  },
  {
   "cell_type": "code",
   "execution_count": 31,
   "metadata": {
    "collapsed": false
   },
   "outputs": [],
   "source": [
    "df_base = pd.merge(df_base, df_aux_ContagensAnteriores.reset_index(), how='inner', on=['cd_ChaveCliente'])"
   ]
  },
  {
   "cell_type": "code",
   "execution_count": 32,
   "metadata": {
    "collapsed": false
   },
   "outputs": [],
   "source": [
    "Recomendacao = []\n",
    "for i in range(len(df_MatrizRecomendacao.columns)):\n",
    "    Recomendacao.append('Recomendacao'+str(i+1))\n",
    "df_base = pd.merge(df_base, df_MatrizRecomendacao[Recomendacao].reset_index(), how='inner', on=['chave_recomendacao'])"
   ]
  },
  {
   "cell_type": "code",
   "execution_count": 38,
   "metadata": {
    "collapsed": false
   },
   "outputs": [
    {
     "data": {
      "text/plain": [
       "(265917, 42)"
      ]
     },
     "execution_count": 38,
     "metadata": {},
     "output_type": "execute_result"
    }
   ],
   "source": [
    "df_base.shape"
   ]
  },
  {
   "cell_type": "code",
   "execution_count": 42,
   "metadata": {
    "collapsed": true
   },
   "outputs": [],
   "source": [
    "colunas = Recomendacao\n",
    "colunas.append('chave_recomendacao')\n",
    "colunas.append('cd_ChaveCliente')"
   ]
  },
  {
   "cell_type": "code",
   "execution_count": null,
   "metadata": {
    "collapsed": true
   },
   "outputs": [],
   "source": [
    "NomeCSV = '/home/felipe/Algoritmos_todosProdutos/Recomendacao/Recomendacao_'+str(df_base.Instalacao.max().year)+'_'+str(df_base.Instalacao.max().month)+'_'+str(df_base.Instalacao.max().day)+'.csv'\n",
    "df_base[colunas].to_csv(NomeCSV)"
   ]
  },
  {
   "cell_type": "markdown",
   "metadata": {},
   "source": [
    "#  "
   ]
  }
 ],
 "metadata": {
  "anaconda-cloud": {},
  "kernelspec": {
   "display_name": "Python [default]",
   "language": "python",
   "name": "python3"
  },
  "language_info": {
   "codemirror_mode": {
    "name": "ipython",
    "version": 3
   },
   "file_extension": ".py",
   "mimetype": "text/x-python",
   "name": "python",
   "nbconvert_exporter": "python",
   "pygments_lexer": "ipython3",
   "version": "3.5.2"
  }
 },
 "nbformat": 4,
 "nbformat_minor": 1
}
